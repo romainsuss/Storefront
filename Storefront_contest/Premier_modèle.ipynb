{
 "cells": [
  {
   "cell_type": "code",
   "execution_count": 156,
   "metadata": {},
   "outputs": [],
   "source": [
    "import numpy as np\n",
    "import matplotlib.pyplot as plt\n",
    "import random \n",
    "import csv\n",
    "import pandas as pd\n",
    "from sklearn.utils import shuffle\n",
    "import seaborn as sns\n",
    "from sklearn.cross_validation import train_test_split\n",
    "from sklearn.feature_selection import RFE\n",
    "from sklearn.linear_model import LogisticRegression\n"
   ]
  },
  {
   "cell_type": "code",
   "execution_count": null,
   "metadata": {},
   "outputs": [],
   "source": []
  },
  {
   "cell_type": "code",
   "execution_count": 157,
   "metadata": {},
   "outputs": [],
   "source": [
    "### LECTURE DU FICHIER ###\n",
    "inquiry_data = pd.read_csv('inquiry_prediction_dataset.csv') #On importe le fichier csv "
   ]
  },
  {
   "cell_type": "code",
   "execution_count": 158,
   "metadata": {},
   "outputs": [],
   "source": [
    "#On selectionne la Prediction Target\n",
    "y = inquiry_data.status"
   ]
  },
  {
   "cell_type": "code",
   "execution_count": 159,
   "metadata": {},
   "outputs": [],
   "source": [
    "#On choisit les features \n",
    "inquiry_features = ['duration', 'total_price', 'nbr_messages_by_owner', 'nbr_messages_by_renter', 'nbr_messages_by_admin' ]\n",
    "#Par convention on appelle les features X \n",
    "X = inquiry_data[inquiry_features]"
   ]
  },
  {
   "cell_type": "code",
   "execution_count": null,
   "metadata": {},
   "outputs": [],
   "source": []
  },
  {
   "cell_type": "code",
   "execution_count": null,
   "metadata": {},
   "outputs": [],
   "source": []
  },
  {
   "cell_type": "code",
   "execution_count": 160,
   "metadata": {},
   "outputs": [],
   "source": [
    "#### REGRESSION LOGISTIQUE"
   ]
  },
  {
   "cell_type": "code",
   "execution_count": 161,
   "metadata": {},
   "outputs": [
    {
     "name": "stdout",
     "output_type": "stream",
     "text": [
      "Précision de notre classifieur (regréssion logistique) sur lensemble de test =  93.24953445065177 %\n"
     ]
    }
   ],
   "source": [
    "X,y= shuffle(X,y) #On mélange les données \n",
    "X_train, X_test, y_train, y_test = train_test_split(X, y, test_size=0.3, random_state=0) #On split nos données\n",
    "\n",
    "#On créer notre classifieur (regression logistique)\n",
    "classifieur = LogisticRegression().fit(X_train, y_train)\n",
    "\n",
    "#On fait nos predictions \n",
    "yPrediction = classifieur.predict(X_test)\n",
    "\n",
    "#On regarde notre precision\n",
    "precision = classifieur.score(X_test, y_test)\n",
    "\n",
    "print('Précision de notre classifieur (regréssion logistique) sur lensemble de test = ' , precision*100, '%')"
   ]
  },
  {
   "cell_type": "code",
   "execution_count": 162,
   "metadata": {},
   "outputs": [],
   "source": [
    "#Pour une meilleure validation du modèle, et comme l'algo met très peu de temps à tourner\n",
    "#On peut faire une cross validation "
   ]
  },
  {
   "cell_type": "code",
   "execution_count": 163,
   "metadata": {},
   "outputs": [
    {
     "name": "stdout",
     "output_type": "stream",
     "text": [
      "8-fold cross validation précision moyenne = 94.07413847572751 %\n"
     ]
    }
   ],
   "source": [
    "from sklearn import model_selection\n",
    "from sklearn.model_selection import cross_val_score\n",
    "\n",
    "#On réalise la cross validation \n",
    "kfold = model_selection.KFold(n_splits=8, random_state=7)\n",
    "results = model_selection.cross_val_score(classifieur, X_train, y_train, cv=kfold, scoring='accuracy')\n",
    "pred = results.mean()\n",
    "print(\"8-fold cross validation précision moyenne =\" , pred*100, '%')"
   ]
  },
  {
   "cell_type": "code",
   "execution_count": 164,
   "metadata": {},
   "outputs": [],
   "source": [
    "#Intéréssant de regarder le poids que la régréssion logistique accorde à chaque variable"
   ]
  },
  {
   "cell_type": "code",
   "execution_count": 165,
   "metadata": {},
   "outputs": [
    {
     "name": "stdout",
     "output_type": "stream",
     "text": [
      "[[-9.97471448e-03 -3.50050755e-05 -3.38075007e-03  1.89008985e-01\n",
      "   2.56341311e-02]]\n"
     ]
    }
   ],
   "source": [
    "print(classifieur.coef_)"
   ]
  },
  {
   "cell_type": "code",
   "execution_count": 166,
   "metadata": {},
   "outputs": [
    {
     "name": "stdout",
     "output_type": "stream",
     "text": [
      "nb feature =  3\n",
      "Selected Features: [ True False False  True  True]\n",
      "Feature Ranking: [1 3 2 1 1]\n"
     ]
    }
   ],
   "source": [
    "from sklearn.feature_selection import RFE\n",
    "from sklearn.linear_model import LogisticRegression\n",
    "rfe = RFE(LogisticRegression(), 3)\n",
    "fit = rfe.fit(X, y)\n",
    "print('nb feature = ', fit.n_features_)\n",
    "print(\"Selected Features:\", fit.support_)\n",
    "print(\"Feature Ranking:\" , fit.ranking_ )"
   ]
  },
  {
   "cell_type": "code",
   "execution_count": null,
   "metadata": {},
   "outputs": [],
   "source": []
  },
  {
   "cell_type": "code",
   "execution_count": 167,
   "metadata": {},
   "outputs": [],
   "source": [
    "### PERFORMANCE ####"
   ]
  },
  {
   "cell_type": "code",
   "execution_count": 168,
   "metadata": {},
   "outputs": [],
   "source": [
    "from sklearn.metrics import confusion_matrix"
   ]
  },
  {
   "cell_type": "code",
   "execution_count": 169,
   "metadata": {},
   "outputs": [
    {
     "name": "stdout",
     "output_type": "stream",
     "text": [
      "[[1996    7]\n",
      " [ 138    7]]\n"
     ]
    }
   ],
   "source": [
    "#Matrice de confusion \n",
    "confusion_matrix = confusion_matrix(y_test, yPrediction)\n",
    "print(confusion_matrix)"
   ]
  },
  {
   "cell_type": "code",
   "execution_count": 170,
   "metadata": {},
   "outputs": [
    {
     "name": "stdout",
     "output_type": "stream",
     "text": [
      "             precision    recall  f1-score   support\n",
      "\n",
      "     failed       0.94      1.00      0.96      2003\n",
      "    success       0.50      0.05      0.09       145\n",
      "\n",
      "avg / total       0.91      0.93      0.91      2148\n",
      "\n"
     ]
    }
   ],
   "source": [
    "from sklearn.metrics import classification_report\n",
    "print(classification_report(y_test, yPrediction))"
   ]
  },
  {
   "cell_type": "code",
   "execution_count": null,
   "metadata": {},
   "outputs": [],
   "source": []
  },
  {
   "cell_type": "code",
   "execution_count": null,
   "metadata": {},
   "outputs": [],
   "source": []
  }
 ],
 "metadata": {
  "kernelspec": {
   "display_name": "Python 3",
   "language": "python",
   "name": "python3"
  },
  "language_info": {
   "codemirror_mode": {
    "name": "ipython",
    "version": 3
   },
   "file_extension": ".py",
   "mimetype": "text/x-python",
   "name": "python",
   "nbconvert_exporter": "python",
   "pygments_lexer": "ipython3",
   "version": "3.6.4"
  }
 },
 "nbformat": 4,
 "nbformat_minor": 2
}
